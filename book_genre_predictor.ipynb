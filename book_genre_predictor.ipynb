{
 "cells": [
  {
   "cell_type": "code",
   "execution_count": 1,
   "id": "5edae7b5",
   "metadata": {},
   "outputs": [],
   "source": [
    "import pandas as pd\n",
    "import numpy as np\n",
    "import nltk\n",
    "import matplotlib.pyplot as plt \n",
    "import seaborn as sns\n",
    "import re\n",
    "from datetime import datetime\n",
    "from sklearn.feature_extraction.text import TfidfVectorizer\n",
    "from sklearn.model_selection import train_test_split\n",
    "from sklearn.metrics import accuracy_score \n",
    "from sklearn.metrics import classification_report,confusion_matrix\n",
    "from sklearn.ensemble import RandomForestClassifier\n",
    "from sklearn.tree import DecisionTreeClassifier\n",
    "from sklearn.svm import SVC\n",
    "from sklearn.ensemble import GradientBoostingClassifier"
   ]
  },
  {
   "cell_type": "code",
   "execution_count": 2,
   "id": "6107aa5f",
   "metadata": {},
   "outputs": [],
   "source": [
    "books=pd.read_csv('BooksDataSet.csv')\n",
    "books=pd.DataFrame(books,columns=['book_id','book_name','genre','summary'])"
   ]
  },
  {
   "cell_type": "code",
   "execution_count": 3,
   "id": "9abcf7bd",
   "metadata": {},
   "outputs": [
    {
     "data": {
      "text/html": [
       "<div>\n",
       "<style scoped>\n",
       "    .dataframe tbody tr th:only-of-type {\n",
       "        vertical-align: middle;\n",
       "    }\n",
       "\n",
       "    .dataframe tbody tr th {\n",
       "        vertical-align: top;\n",
       "    }\n",
       "\n",
       "    .dataframe thead th {\n",
       "        text-align: right;\n",
       "    }\n",
       "</style>\n",
       "<table border=\"1\" class=\"dataframe\">\n",
       "  <thead>\n",
       "    <tr style=\"text-align: right;\">\n",
       "      <th></th>\n",
       "      <th>book_id</th>\n",
       "      <th>book_name</th>\n",
       "      <th>genre</th>\n",
       "      <th>summary</th>\n",
       "    </tr>\n",
       "  </thead>\n",
       "  <tbody>\n",
       "    <tr>\n",
       "      <th>0</th>\n",
       "      <td>3248537</td>\n",
       "      <td>Drowned Wednesday</td>\n",
       "      <td>Fantasy</td>\n",
       "      <td>Drowned Wednesday is the first Trustee among ...</td>\n",
       "    </tr>\n",
       "    <tr>\n",
       "      <th>1</th>\n",
       "      <td>27796919</td>\n",
       "      <td>The Lost Hero</td>\n",
       "      <td>Fantasy</td>\n",
       "      <td>As the book opens, Jason awakens on a school ...</td>\n",
       "    </tr>\n",
       "    <tr>\n",
       "      <th>2</th>\n",
       "      <td>3910776</td>\n",
       "      <td>The Eyes of the Overworld</td>\n",
       "      <td>Fantasy</td>\n",
       "      <td>Cugel is easily persuaded by the merchant Fia...</td>\n",
       "    </tr>\n",
       "    <tr>\n",
       "      <th>3</th>\n",
       "      <td>5969644</td>\n",
       "      <td>Magic's Promise</td>\n",
       "      <td>Fantasy</td>\n",
       "      <td>The book opens with Herald-Mage Vanyel return...</td>\n",
       "    </tr>\n",
       "    <tr>\n",
       "      <th>4</th>\n",
       "      <td>3173445</td>\n",
       "      <td>Taran Wanderer</td>\n",
       "      <td>Fantasy</td>\n",
       "      <td>Taran and Gurgi have returned to Caer Dallben...</td>\n",
       "    </tr>\n",
       "  </tbody>\n",
       "</table>\n",
       "</div>"
      ],
      "text/plain": [
       "    book_id                  book_name    genre  \\\n",
       "0   3248537          Drowned Wednesday  Fantasy   \n",
       "1  27796919              The Lost Hero  Fantasy   \n",
       "2   3910776  The Eyes of the Overworld  Fantasy   \n",
       "3   5969644            Magic's Promise  Fantasy   \n",
       "4   3173445             Taran Wanderer  Fantasy   \n",
       "\n",
       "                                             summary  \n",
       "0   Drowned Wednesday is the first Trustee among ...  \n",
       "1   As the book opens, Jason awakens on a school ...  \n",
       "2   Cugel is easily persuaded by the merchant Fia...  \n",
       "3   The book opens with Herald-Mage Vanyel return...  \n",
       "4   Taran and Gurgi have returned to Caer Dallben...  "
      ]
     },
     "execution_count": 3,
     "metadata": {},
     "output_type": "execute_result"
    }
   ],
   "source": [
    "books.head()"
   ]
  },
  {
   "cell_type": "code",
   "execution_count": 5,
   "id": "607825b9",
   "metadata": {},
   "outputs": [
    {
     "data": {
      "text/html": [
       "<div>\n",
       "<style scoped>\n",
       "    .dataframe tbody tr th:only-of-type {\n",
       "        vertical-align: middle;\n",
       "    }\n",
       "\n",
       "    .dataframe tbody tr th {\n",
       "        vertical-align: top;\n",
       "    }\n",
       "\n",
       "    .dataframe thead th {\n",
       "        text-align: right;\n",
       "    }\n",
       "</style>\n",
       "<table border=\"1\" class=\"dataframe\">\n",
       "  <thead>\n",
       "    <tr style=\"text-align: right;\">\n",
       "      <th></th>\n",
       "      <th>book_id</th>\n",
       "      <th>book_name</th>\n",
       "      <th>genre</th>\n",
       "      <th>summary</th>\n",
       "    </tr>\n",
       "  </thead>\n",
       "  <tbody>\n",
       "    <tr>\n",
       "      <th>2421</th>\n",
       "      <td>14062078</td>\n",
       "      <td>The Bloody Red Baron</td>\n",
       "      <td>Horror</td>\n",
       "      <td>The book takes place during World War I, and ...</td>\n",
       "    </tr>\n",
       "  </tbody>\n",
       "</table>\n",
       "</div>"
      ],
      "text/plain": [
       "       book_id             book_name   genre  \\\n",
       "2421  14062078  The Bloody Red Baron  Horror   \n",
       "\n",
       "                                                summary  \n",
       "2421   The book takes place during World War I, and ...  "
      ]
     },
     "execution_count": 5,
     "metadata": {},
     "output_type": "execute_result"
    }
   ],
   "source": [
    "books.sample()"
   ]
  },
  {
   "cell_type": "code",
   "execution_count": 6,
   "id": "9a183551",
   "metadata": {},
   "outputs": [
    {
     "name": "stdout",
     "output_type": "stream",
     "text": [
      "<class 'pandas.core.frame.DataFrame'>\n",
      "RangeIndex: 3000 entries, 0 to 2999\n",
      "Data columns (total 4 columns):\n",
      " #   Column     Non-Null Count  Dtype \n",
      "---  ------     --------------  ----- \n",
      " 0   book_id    3000 non-null   int64 \n",
      " 1   book_name  3000 non-null   object\n",
      " 2   genre      3000 non-null   object\n",
      " 3   summary    3000 non-null   object\n",
      "dtypes: int64(1), object(3)\n",
      "memory usage: 93.9+ KB\n"
     ]
    }
   ],
   "source": [
    "books.info()"
   ]
  },
  {
   "cell_type": "code",
   "execution_count": 7,
   "id": "8678a4bc",
   "metadata": {},
   "outputs": [
    {
     "data": {
      "text/plain": [
       "(3000, 4)"
      ]
     },
     "execution_count": 7,
     "metadata": {},
     "output_type": "execute_result"
    }
   ],
   "source": [
    "books.shape"
   ]
  },
  {
   "cell_type": "code",
   "execution_count": 8,
   "id": "b97a2cf4",
   "metadata": {},
   "outputs": [
    {
     "data": {
      "text/html": [
       "<div>\n",
       "<style scoped>\n",
       "    .dataframe tbody tr th:only-of-type {\n",
       "        vertical-align: middle;\n",
       "    }\n",
       "\n",
       "    .dataframe tbody tr th {\n",
       "        vertical-align: top;\n",
       "    }\n",
       "\n",
       "    .dataframe thead th {\n",
       "        text-align: right;\n",
       "    }\n",
       "</style>\n",
       "<table border=\"1\" class=\"dataframe\">\n",
       "  <thead>\n",
       "    <tr style=\"text-align: right;\">\n",
       "      <th></th>\n",
       "      <th>book_id</th>\n",
       "      <th>book_name</th>\n",
       "      <th>summary</th>\n",
       "    </tr>\n",
       "    <tr>\n",
       "      <th>genre</th>\n",
       "      <th></th>\n",
       "      <th></th>\n",
       "      <th></th>\n",
       "    </tr>\n",
       "  </thead>\n",
       "  <tbody>\n",
       "    <tr>\n",
       "      <th>Crime Fiction</th>\n",
       "      <td>500</td>\n",
       "      <td>500</td>\n",
       "      <td>500</td>\n",
       "    </tr>\n",
       "    <tr>\n",
       "      <th>Fantasy</th>\n",
       "      <td>500</td>\n",
       "      <td>500</td>\n",
       "      <td>500</td>\n",
       "    </tr>\n",
       "    <tr>\n",
       "      <th>Historical novel</th>\n",
       "      <td>500</td>\n",
       "      <td>500</td>\n",
       "      <td>500</td>\n",
       "    </tr>\n",
       "    <tr>\n",
       "      <th>Horror</th>\n",
       "      <td>500</td>\n",
       "      <td>500</td>\n",
       "      <td>500</td>\n",
       "    </tr>\n",
       "    <tr>\n",
       "      <th>Science Fiction</th>\n",
       "      <td>500</td>\n",
       "      <td>500</td>\n",
       "      <td>500</td>\n",
       "    </tr>\n",
       "    <tr>\n",
       "      <th>Thriller</th>\n",
       "      <td>500</td>\n",
       "      <td>500</td>\n",
       "      <td>500</td>\n",
       "    </tr>\n",
       "  </tbody>\n",
       "</table>\n",
       "</div>"
      ],
      "text/plain": [
       "                  book_id  book_name  summary\n",
       "genre                                        \n",
       "Crime Fiction         500        500      500\n",
       "Fantasy               500        500      500\n",
       "Historical novel      500        500      500\n",
       "Horror                500        500      500\n",
       "Science Fiction       500        500      500\n",
       "Thriller              500        500      500"
      ]
     },
     "execution_count": 8,
     "metadata": {},
     "output_type": "execute_result"
    }
   ],
   "source": [
    "#Grouping all the rows by genre.\n",
    "books.groupby('genre').count()"
   ]
  },
  {
   "cell_type": "code",
   "execution_count": 9,
   "id": "cb974289",
   "metadata": {},
   "outputs": [
    {
     "data": {
      "text/plain": [
       "0        Drowned Wednesday is the first Trustee among ...\n",
       "1        As the book opens, Jason awakens on a school ...\n",
       "2        Cugel is easily persuaded by the merchant Fia...\n",
       "3        The book opens with Herald-Mage Vanyel return...\n",
       "4        Taran and Gurgi have returned to Caer Dallben...\n",
       "                              ...                        \n",
       "2995     A Novel from the NUMA files, A Kurt Austin Ad...\n",
       "2996     Gilbert Kemp is dealer specializing in antiqu...\n",
       "2997     \"How do you know when you're in too deep? Dav...\n",
       "2998     The story concerns the life of Johnnie Pascoe...\n",
       "2999     The First Chief: Will Henry Lee: The novel op...\n",
       "Name: summary, Length: 3000, dtype: object"
      ]
     },
     "execution_count": 9,
     "metadata": {},
     "output_type": "execute_result"
    }
   ],
   "source": [
    "books['summary']"
   ]
  },
  {
   "cell_type": "code",
   "execution_count": 10,
   "id": "c0d4a724",
   "metadata": {},
   "outputs": [],
   "source": [
    "# function for text cleaning\n",
    " \n",
    "def clean(text):\n",
    "    # remove backslash-apostrophe \n",
    "    text = re.sub(\"\\'\", \"\", text) \n",
    "    # remove everything except alphabets \n",
    "    text = re.sub(\"[^a-zA-Z]\",\" \",text) \n",
    "    # remove whitespaces \n",
    "    text = ' '.join(text.split()) \n",
    "    # convert text to lowercase \n",
    "    text = text.lower() \n",
    "    \n",
    "    return text\n",
    "\n",
    "books.loc[:,'summary']=books.loc[:,'summary'].apply(lambda x: clean(x))"
   ]
  },
  {
   "cell_type": "code",
   "execution_count": 11,
   "id": "84fe67d4",
   "metadata": {},
   "outputs": [
    {
     "data": {
      "text/plain": [
       "0       drowned wednesday is the first trustee among t...\n",
       "1       as the book opens jason awakens on a school bu...\n",
       "2       cugel is easily persuaded by the merchant fian...\n",
       "3       the book opens with herald mage vanyel returni...\n",
       "4       taran and gurgi have returned to caer dallben ...\n",
       "                              ...                        \n",
       "2995    a novel from the numa files a kurt austin adve...\n",
       "2996    gilbert kemp is dealer specializing in antique...\n",
       "2997    how do you know when youre in too deep davey h...\n",
       "2998    the story concerns the life of johnnie pascoe ...\n",
       "2999    the first chief will henry lee the novel opens...\n",
       "Name: summary, Length: 3000, dtype: object"
      ]
     },
     "execution_count": 11,
     "metadata": {},
     "output_type": "execute_result"
    }
   ],
   "source": [
    "#Displaying \"summary\" after text-cleaning.\n",
    "books['summary']"
   ]
  },
  {
   "cell_type": "code",
   "execution_count": 12,
   "id": "bfb8d8a3",
   "metadata": {},
   "outputs": [
    {
     "name": "stdout",
     "output_type": "stream",
     "text": [
      "Graph to visualize the words and frequency in book's summary.\n",
      "\n",
      "\n"
     ]
    },
    {
     "data": {
      "image/png": "[encoded data removed]",
      "text/plain": [
       "<Figure size 700x500 with 1 Axes>"
      ]
     },
     "metadata": {},
     "output_type": "display_data"
    }
   ],
   "source": [
    "#Function to visualize the words and frequency in book's summary.\n",
    "\n",
    "print(\"Graph to visualize the words and frequency in book's summary.\\n\\n\")\n",
    "\n",
    "def freqwords(x, terms): \n",
    "  allwords = ' '.join([text for text in x]) \n",
    "  allwords = allwords.split() \n",
    "  fdist = nltk.FreqDist(allwords) \n",
    "  wordsdf = pd.DataFrame({'word':list(fdist.keys()), 'count':list(fdist.values())}) \n",
    "  \n",
    "  \n",
    "  d = wordsdf.nlargest(columns=\"count\", n = terms) \n",
    "  \n",
    "  # visualize words and frequencies\n",
    "  plt.figure(figsize=(7,5)) \n",
    "  ax = sns.barplot(data=d, x= \"count\", y = \"word\") \n",
    "  ax.set(ylabel = 'Word') \n",
    "  plt.show()\n",
    "  \n",
    "# print 25 most frequent words \n",
    "freqwords(books['summary'], 25)"
   ]
  },
  {
   "cell_type": "code",
   "execution_count": 13,
   "id": "ae09dfad",
   "metadata": {},
   "outputs": [
    {
     "name": "stderr",
     "output_type": "stream",
     "text": [
      "[nltk_data] Downloading package stopwords to\n",
      "[nltk_data]     C:\\Users\\nipun\\AppData\\Roaming\\nltk_data...\n",
      "[nltk_data]   Unzipping corpora\\stopwords.zip.\n"
     ]
    }
   ],
   "source": [
    "nltk.download('stopwords')\n",
    "\n",
    "from nltk.corpus import stopwords\n",
    "stop_words = set(stopwords.words('english'))\n",
    "\n",
    "# function to remove stopwords\n",
    "def removestopwords(text):\n",
    "    no_stopword_text = [w for w in text.split() if not w in stop_words]\n",
    "    return ' '.join(no_stopword_text)\n",
    "\n",
    "books['summary'] = books['summary'].apply(lambda x: removestopwords(x))"
   ]
  },
  {
   "cell_type": "code",
   "execution_count": 18,
   "id": "e250d0d5",
   "metadata": {},
   "outputs": [
    {
     "name": "stderr",
     "output_type": "stream",
     "text": [
      "[nltk_data] Downloading package omw-1.4 to\n",
      "[nltk_data]     C:\\Users\\nipun\\AppData\\Roaming\\nltk_data...\n"
     ]
    },
    {
     "data": {
      "text/plain": [
       "True"
      ]
     },
     "execution_count": 18,
     "metadata": {},
     "output_type": "execute_result"
    }
   ],
   "source": [
    "import nltk\n",
    "nltk.download('omw-1.4')"
   ]
  },
  {
   "cell_type": "code",
   "execution_count": 19,
   "id": "73e9a0e5",
   "metadata": {},
   "outputs": [],
   "source": [
    "from nltk.stem import WordNetLemmatizer\n",
    "\n",
    "lemma=WordNetLemmatizer()\n",
    "\n",
    "def lematizing(sentence):\n",
    "    stemSentence = \"\"\n",
    "    for word in sentence.split():\n",
    "        stem = lemma.lemmatize(word)\n",
    "        stemSentence += stem\n",
    "        stemSentence += \" \"\n",
    "    stemSentence = stemSentence.strip()\n",
    "    return stemSentence\n",
    "\n",
    "\n",
    "books['summary'] = books['summary'].apply(lambda x: lematizing(x))"
   ]
  },
  {
   "cell_type": "code",
   "execution_count": 20,
   "id": "60e4fa36",
   "metadata": {},
   "outputs": [],
   "source": [
    "from nltk.stem import PorterStemmer\n",
    "stemmer = PorterStemmer()\n",
    "def stemming(sentence):\n",
    "    stemSentence = \"\"\n",
    "    for word in sentence.split():\n",
    "        stem = stemmer.stem(word)\n",
    "        stemSentence += stem\n",
    "        stemSentence += \" \"\n",
    "    stemSentence = stemSentence.strip()\n",
    "    return stemSentence\n",
    "\n",
    "\n",
    "books['summary'] = books['summary'].apply(lambda x: stemming(x))"
   ]
  },
  {
   "cell_type": "code",
   "execution_count": 21,
   "id": "24a2906e",
   "metadata": {},
   "outputs": [
    {
     "data": {
      "text/plain": [
       "0       drown wednesday first truste among morrow day ...\n",
       "1       book open jason awaken school bu unabl rememb ...\n",
       "2       cugel easili persuad merchant fianosth attempt...\n",
       "3       book open herald mage vanyel return countri va...\n",
       "4       taran gurgi return caer dallben follow event t...\n",
       "                              ...                        \n",
       "2995    novel numa file kurt austin adventur novel mai...\n",
       "2996    gilbert kemp dealer special antiqu gun london ...\n",
       "2997    know your deep davey alway live shadow older b...\n",
       "2998    stori concern life johnni pasco retir commerci...\n",
       "2999    first chief henri lee novel open grow town del...\n",
       "Name: summary, Length: 3000, dtype: object"
      ]
     },
     "execution_count": 21,
     "metadata": {},
     "output_type": "execute_result"
    }
   ],
   "source": [
    "books['summary']"
   ]
  },
  {
   "cell_type": "code",
   "execution_count": 22,
   "id": "28f7b422",
   "metadata": {},
   "outputs": [
    {
     "data": {
      "image/png": "[encoded data removed]",
      "text/plain": [
       "<Figure size 700x500 with 1 Axes>"
      ]
     },
     "metadata": {},
     "output_type": "display_data"
    }
   ],
   "source": [
    "#Function to visualize the words and frequency in book's summary.\n",
    "\n",
    "# print 25 most frequent words \n",
    "freqwords(books['summary'], 25)"
   ]
  },
  {
   "cell_type": "code",
   "execution_count": 23,
   "id": "49288f55",
   "metadata": {},
   "outputs": [],
   "source": [
    "#Labeling each 'genre' with an unique number \n",
    "from sklearn.preprocessing import LabelEncoder\n",
    "le = LabelEncoder()\n",
    "y=le.fit_transform(books['genre'])"
   ]
  },
  {
   "cell_type": "code",
   "execution_count": 24,
   "id": "426e64b5",
   "metadata": {},
   "outputs": [
    {
     "data": {
      "text/plain": [
       "array(['Crime Fiction', 'Fantasy', 'Historical novel', 'Horror',\n",
       "       'Science Fiction', 'Thriller'], dtype=object)"
      ]
     },
     "execution_count": 24,
     "metadata": {},
     "output_type": "execute_result"
    }
   ],
   "source": [
    "#perform inverse mapping on the unique numbers representing a genre.\n",
    "le.inverse_transform([0,1,2,3,4,5])"
   ]
  },
  {
   "cell_type": "code",
   "execution_count": 25,
   "id": "ea255015",
   "metadata": {},
   "outputs": [],
   "source": [
    "xtrain, xtest, ytrain, ytest = train_test_split(books['summary'], y, test_size=0.2, random_state=557)"
   ]
  },
  {
   "cell_type": "code",
   "execution_count": 26,
   "id": "237998cc",
   "metadata": {},
   "outputs": [],
   "source": [
    "#Performing tf-idf \n",
    "\n",
    "tfidf_vectorizer = TfidfVectorizer(max_df=0.8, max_features=10000)\n",
    "xtrain_tfidf = tfidf_vectorizer.fit_transform(xtrain.values.astype('U'))\n",
    "xtest_tfidf = tfidf_vectorizer.transform(xtest.values.astype('U'))"
   ]
  },
  {
   "cell_type": "code",
   "execution_count": 27,
   "id": "26bd2fed",
   "metadata": {},
   "outputs": [
    {
     "name": "stdout",
     "output_type": "stream",
     "text": [
      "Support Vector Classifier\n",
      "\n",
      "Accuracy Score : 0.775\n",
      "Report : \n",
      "              precision    recall  f1-score   support\n",
      "\n",
      "           0       0.84      0.78      0.81       102\n",
      "           1       0.67      0.76      0.71        89\n",
      "           2       0.84      0.85      0.84       110\n",
      "           3       0.77      0.72      0.74       100\n",
      "           4       0.83      0.77      0.80        97\n",
      "           5       0.71      0.75      0.73       102\n",
      "\n",
      "    accuracy                           0.78       600\n",
      "   macro avg       0.78      0.77      0.77       600\n",
      "weighted avg       0.78      0.78      0.78       600\n",
      "\n"
     ]
    }
   ],
   "source": [
    "svc = SVC(kernel='rbf',gamma=1)\n",
    "svc.fit(xtrain_tfidf,ytrain)\n",
    "svpred=svc.predict(xtest_tfidf)\n",
    "\n",
    "print(\"Support Vector Classifier\\n\")\n",
    "print( 'Accuracy Score :',accuracy_score(ytest,svpred))\n",
    "print ('Report : ')\n",
    "print(classification_report(ytest,svpred))"
   ]
  },
  {
   "cell_type": "code",
   "execution_count": 28,
   "id": "fe4c3b84",
   "metadata": {},
   "outputs": [
    {
     "name": "stdout",
     "output_type": "stream",
     "text": [
      "Random Forest Classifier\n",
      "\n",
      "Accuracy Score : 0.6583333333333333\n",
      "Report : \n",
      "              precision    recall  f1-score   support\n",
      "\n",
      "           0       0.55      0.81      0.66       102\n",
      "           1       0.59      0.69      0.63        89\n",
      "           2       0.75      0.72      0.73       110\n",
      "           3       0.77      0.60      0.67       100\n",
      "           4       0.70      0.76      0.73        97\n",
      "           5       0.67      0.37      0.48       102\n",
      "\n",
      "    accuracy                           0.66       600\n",
      "   macro avg       0.67      0.66      0.65       600\n",
      "weighted avg       0.67      0.66      0.65       600\n",
      "\n"
     ]
    }
   ],
   "source": [
    "rf = RandomForestClassifier(n_estimators=200)\n",
    "rf.fit(xtrain_tfidf,ytrain)\n",
    "rfpred=rf.predict(xtest_tfidf)\n",
    "\n",
    "print(\"Random Forest Classifier\\n\")\n",
    "print( 'Accuracy Score :',accuracy_score(ytest,rfpred))\n",
    "print ('Report : ')\n",
    "print(classification_report(ytest,rfpred))"
   ]
  },
  {
   "cell_type": "code",
   "execution_count": 29,
   "id": "dad8b0fc",
   "metadata": {},
   "outputs": [
    {
     "name": "stdout",
     "output_type": "stream",
     "text": [
      "Decision Tree Classifier\n",
      "\n",
      "Accuracy Score : 0.41\n",
      "Report : \n",
      "              precision    recall  f1-score   support\n",
      "\n",
      "           0       0.45      0.47      0.46       102\n",
      "           1       0.37      0.43      0.40        89\n",
      "           2       0.48      0.45      0.47       110\n",
      "           3       0.44      0.42      0.43       100\n",
      "           4       0.45      0.46      0.46        97\n",
      "           5       0.25      0.23      0.24       102\n",
      "\n",
      "    accuracy                           0.41       600\n",
      "   macro avg       0.41      0.41      0.41       600\n",
      "weighted avg       0.41      0.41      0.41       600\n",
      "\n"
     ]
    }
   ],
   "source": [
    "dt = DecisionTreeClassifier(criterion = 'entropy')\n",
    "dt.fit(xtrain_tfidf,ytrain)\n",
    "dtpred=dt.predict(xtest_tfidf)\n",
    "\n",
    "print(\"Decision Tree Classifier\\n\")\n",
    "print( 'Accuracy Score :',accuracy_score(ytest,dtpred))\n",
    "print ('Report : ')\n",
    "print(classification_report(ytest,dtpred))"
   ]
  },
  {
   "cell_type": "code",
   "execution_count": 30,
   "id": "83f7974e",
   "metadata": {},
   "outputs": [
    {
     "name": "stdout",
     "output_type": "stream",
     "text": [
      "Gradient Boosting Classifier\n",
      "\n",
      "Accuracy Score : 0.6366666666666667\n",
      "Report : \n",
      "              precision    recall  f1-score   support\n",
      "\n",
      "           0       0.64      0.75      0.69       102\n",
      "           1       0.58      0.60      0.59        89\n",
      "           2       0.71      0.67      0.69       110\n",
      "           3       0.72      0.63      0.67       100\n",
      "           4       0.71      0.67      0.69        97\n",
      "           5       0.47      0.49      0.48       102\n",
      "\n",
      "    accuracy                           0.64       600\n",
      "   macro avg       0.64      0.64      0.64       600\n",
      "weighted avg       0.64      0.64      0.64       600\n",
      "\n"
     ]
    }
   ],
   "source": [
    "gvc = GradientBoostingClassifier()\n",
    "gvc.fit(xtrain_tfidf,ytrain)\n",
    "gvcpred=gvc.predict(xtest_tfidf)\n",
    "\n",
    "print(\"Gradient Boosting Classifier\\n\")\n",
    "print( 'Accuracy Score :',accuracy_score(ytest,gvcpred))\n",
    "print ('Report : ')\n",
    "print(classification_report(ytest,gvcpred))"
   ]
  },
  {
   "cell_type": "markdown",
   "id": "5c0096d0",
   "metadata": {},
   "source": [
    "# Final Support Vector Regression Model"
   ]
  },
  {
   "cell_type": "code",
   "execution_count": 31,
   "id": "460105e6",
   "metadata": {},
   "outputs": [
    {
     "name": "stdout",
     "output_type": "stream",
     "text": [
      "[4 5 1 5 0 0 1 5 2 4 1 4 1 2 5 2 5 1 4 5 4 3 4 2 4 2 2 5 2 4 2 2 5 3 2 2 5\n",
      " 3 0 4 4 4 5 3 2 5 2 2 0 4 4 5 0 2 5 3 1 2 4 1 2 4 1 2 0 0 1 1 4 0 4 5 3 0\n",
      " 1 1 4 5 2 2 5 1 5 4 4 5 2 2 2 5 4 2 0 5 3 2 5 3 3 5 0 2 5 3 3 4 2 2 0 3 4\n",
      " 5 3 1 1 4 1 5 4 4 4 5 0 0 0 4 3 1 3 2 2 5 1 2 2 1 0 1 4 3 1 1 3 3 0 2 2 3\n",
      " 3 2 0 4 1 4 0 0 4 1 0 4 1 2 4 2 1 4 4 3 0 3 0 3 2 0 0 3 2 5 2 4 4 3 5 3 1\n",
      " 5 5 3 0 3 5 5 0 4 3 1 2 3 1 0 0 4 2 0 2 4 3 1 2 5 3 3 5 2 1 1 1 0 1 3 1 0\n",
      " 0 2 4 0 1 5 5 5 5 2 3 2 1 5 4 4 3 5 3 2 0 5 5 3 1 0 4 3 0 0 2 5 0 0 5 4 5\n",
      " 3 0 0 1 3 2 2 1 3 1 0 5 2 5 1 4 1 5 1 3 1 5 3 4 3 4 1 1 1 1 0 0 3 2 2 4 4\n",
      " 0 5 1 2 2 1 3 3 4 3 1 5 0 1 3 3 0 2 0 5 2 2 0 5 0 2 3 4 1 3 0 5 1 2 3 3 3\n",
      " 0 5 1 2 2 2 5 2 1 3 0 1 0 1 4 3 0 0 4 3 5 4 0 4 2 0 3 3 3 1 2 5 0 2 5 4 2\n",
      " 5 0 3 0 5 5 5 5 5 0 2 2 2 4 1 5 3 0 5 1 4 0 1 5 4 2 1 2 5 4 5 5 3 3 5 3 1\n",
      " 0 3 0 4 0 2 1 5 5 1 1 4 2 3 0 4 4 2 2 5 5 3 3 4 5 5 2 5 5 2 5 5 4 4 1 2 4\n",
      " 4 5 1 2 1 4 0 1 5 1 4 2 3 5 1 3 2 1 3 0 4 0 0 4 4 2 3 0 2 1 2 4 5 0 1 3 4\n",
      " 5 3 0 0 1 1 5 5 0 0 3 0 2 0 5 4 2 3 2 3 2 5 3 5 5 1 4 2 5 4 2 2 1 2 3 2 2\n",
      " 2 1 5 3 3 4 1 0 4 2 1 3 2 3 2 0 2 4 5 3 5 0 3 2 0 3 1 3 0 2 1 1 5 1 1 5 1\n",
      " 0 2 1 0 2 5 5 4 3 3 0 1 1 5 4 1 0 5 1 0 1 5 5 3 1 4 0 4 1 2 2 0 5 5 4 1 1\n",
      " 0 4 2 1 3 0 2 1]\n",
      "\n",
      "Accuracy Score : 0.775\n",
      "Report : \n",
      "              precision    recall  f1-score   support\n",
      "\n",
      "           0       0.84      0.78      0.81       102\n",
      "           1       0.67      0.76      0.71        89\n",
      "           2       0.84      0.85      0.84       110\n",
      "           3       0.77      0.72      0.74       100\n",
      "           4       0.83      0.77      0.80        97\n",
      "           5       0.71      0.75      0.73       102\n",
      "\n",
      "    accuracy                           0.78       600\n",
      "   macro avg       0.78      0.77      0.77       600\n",
      "weighted avg       0.78      0.78      0.78       600\n",
      "\n"
     ]
    }
   ],
   "source": [
    "model = SVC(kernel='rbf',gamma=1)\n",
    "model.fit(xtrain_tfidf,ytrain)\n",
    "pred=model.predict(xtest_tfidf)\n",
    "\n",
    "print(pred)\n",
    "print('\\nAccuracy Score :',accuracy_score(ytest,pred))\n",
    "print ('Report : ')\n",
    "conf_matrix = confusion_matrix(ytest, pred)\n",
    "print(classification_report(ytest,pred))"
   ]
  },
  {
   "cell_type": "code",
   "execution_count": 32,
   "id": "8bea8a53",
   "metadata": {},
   "outputs": [
    {
     "data": {
      "text/plain": [
       "535"
      ]
     },
     "execution_count": 32,
     "metadata": {},
     "output_type": "execute_result"
    }
   ],
   "source": [
    "k = xtest.sample(1).index[0]\n",
    "k"
   ]
  },
  {
   "cell_type": "markdown",
   "id": "1c5a1d5e",
   "metadata": {},
   "source": [
    "# Testing our Model by comparing actual genre with predicted genre"
   ]
  },
  {
   "cell_type": "code",
   "execution_count": 33,
   "id": "9e582e6b",
   "metadata": {},
   "outputs": [
    {
     "name": "stdout",
     "output_type": "stream",
     "text": [
      "\n",
      "Book:  A Connecticut Yankee in King Arthur's Court\n",
      "\n",
      "Predicted genre:  Fantasy\n",
      "\n",
      "Actual genre:  Fantasy \n",
      "\n",
      "-------------------------------\n",
      "\n",
      "Book:  The King Must Die\n",
      "\n",
      "Predicted genre:  Fantasy\n",
      "\n",
      "Actual genre:  Historical novel \n",
      "\n",
      "-------------------------------\n",
      "\n",
      "Book:  Winter Moon\n",
      "\n",
      "Predicted genre:  Horror\n",
      "\n",
      "Actual genre:  Horror \n",
      "\n",
      "-------------------------------\n",
      "\n",
      "Book:  Are You Afraid of the Dark?\n",
      "\n",
      "Predicted genre:  Thriller\n",
      "\n",
      "Actual genre:  Thriller \n",
      "\n",
      "-------------------------------\n",
      "\n",
      "Book:  The Spiraling Worm\n",
      "\n",
      "Predicted genre:  Science Fiction\n",
      "\n",
      "Actual genre:  Horror \n",
      "\n",
      "-------------------------------\n",
      "\n",
      "Book:  Kydd\n",
      "\n",
      "Predicted genre:  Historical novel\n",
      "\n",
      "Actual genre:  Historical novel \n",
      "\n",
      "-------------------------------\n",
      "\n",
      "Book:  The Diamond of Darkhold\n",
      "\n",
      "Predicted genre:  Fantasy\n",
      "\n",
      "Actual genre:  Fantasy \n",
      "\n",
      "-------------------------------\n",
      "\n",
      "Book:  Darksaber\n",
      "\n",
      "Predicted genre:  Science Fiction\n",
      "\n",
      "Actual genre:  Science Fiction \n",
      "\n",
      "-------------------------------\n",
      "\n",
      "Book:  Robopocalypse\n",
      "\n",
      "Predicted genre:  Science Fiction\n",
      "\n",
      "Actual genre:  Science Fiction \n",
      "\n",
      "-------------------------------\n",
      "\n",
      "Book:  Ramage and the Drumbeat\n",
      "\n",
      "Predicted genre:  Historical novel\n",
      "\n",
      "Actual genre:  Historical novel \n",
      "\n",
      "-------------------------------\n",
      "\n",
      "Book:  The World at the End of Time\n",
      "\n",
      "Predicted genre:  Science Fiction\n",
      "\n",
      "Actual genre:  Science Fiction \n",
      "\n",
      "-------------------------------\n",
      "\n",
      "Book:  The Romulan Way\n",
      "\n",
      "Predicted genre:  Thriller\n",
      "\n",
      "Actual genre:  Science Fiction \n",
      "\n",
      "-------------------------------\n",
      "\n",
      "Book:  In Enemy Hands\n",
      "\n",
      "Predicted genre:  Science Fiction\n",
      "\n",
      "Actual genre:  Science Fiction \n",
      "\n",
      "-------------------------------\n",
      "\n",
      "Book:  Worldwar: Upsetting the Balance\n",
      "\n",
      "Predicted genre:  Science Fiction\n",
      "\n",
      "Actual genre:  Science Fiction \n",
      "\n",
      "-------------------------------\n",
      "\n",
      "Book:  Magic Moon\n",
      "\n",
      "Predicted genre:  Fantasy\n",
      "\n",
      "Actual genre:  Fantasy \n",
      "\n",
      "-------------------------------\n",
      "\n",
      "Book:  The Lost Hero\n",
      "\n",
      "Predicted genre:  Fantasy\n",
      "\n",
      "Actual genre:  Fantasy \n",
      "\n",
      "-------------------------------\n",
      "\n",
      "Book:  The World Inside\n",
      "\n",
      "Predicted genre:  Science Fiction\n",
      "\n",
      "Actual genre:  Science Fiction \n",
      "\n",
      "-------------------------------\n",
      "\n",
      "Book:  Mannan Magal\n",
      "\n",
      "Predicted genre:  Thriller\n",
      "\n",
      "Actual genre:  Historical novel \n",
      "\n",
      "-------------------------------\n",
      "\n",
      "Book:  The Winter of Frankie Machine\n",
      "\n",
      "Predicted genre:  Crime Fiction\n",
      "\n",
      "Actual genre:  Thriller \n",
      "\n",
      "-------------------------------\n",
      "\n",
      "Book:  The Immortals\n",
      "\n",
      "Predicted genre:  Thriller\n",
      "\n",
      "Actual genre:  Fantasy \n",
      "\n",
      "-------------------------------\n",
      "\n",
      "Book:  Spaceship to Saturn\n",
      "\n",
      "Predicted genre:  Science Fiction\n",
      "\n",
      "Actual genre:  Science Fiction \n",
      "\n",
      "-------------------------------\n",
      "\n",
      "Book:  The Food of the Gods and How It Came to Earth\n",
      "\n",
      "Predicted genre:  Science Fiction\n",
      "\n",
      "Actual genre:  Science Fiction \n",
      "\n",
      "-------------------------------\n",
      "\n",
      "Book:  Requiem for the Conqueror\n",
      "\n",
      "Predicted genre:  Fantasy\n",
      "\n",
      "Actual genre:  Fantasy \n",
      "\n",
      "-------------------------------\n",
      "\n",
      "Book:  Ghost Circles\n",
      "\n",
      "Predicted genre:  Fantasy\n",
      "\n",
      "Actual genre:  Horror \n",
      "\n",
      "-------------------------------\n",
      "\n",
      "Book:  Goodnight Mister Tom\n",
      "\n",
      "Predicted genre:  Historical novel\n",
      "\n",
      "Actual genre:  Historical novel \n",
      "\n",
      "-------------------------------\n",
      "\n",
      "Book:  The Good Muslim\n",
      "\n",
      "Predicted genre:  Historical novel\n",
      "\n",
      "Actual genre:  Historical novel \n",
      "\n",
      "-------------------------------\n",
      "\n",
      "Book:  Flashman\n",
      "\n",
      "Predicted genre:  Historical novel\n",
      "\n",
      "Actual genre:  Historical novel \n",
      "\n",
      "-------------------------------\n",
      "\n",
      "Book:  Goodnight Mister Tom\n",
      "\n",
      "Predicted genre:  Historical novel\n",
      "\n",
      "Actual genre:  Historical novel \n",
      "\n",
      "-------------------------------\n",
      "\n",
      "Book:  The Vor Game\n",
      "\n",
      "Predicted genre:  Science Fiction\n",
      "\n",
      "Actual genre:  Fantasy \n",
      "\n",
      "-------------------------------\n",
      "\n",
      "Book:  The Odessa File\n",
      "\n",
      "Predicted genre:  Thriller\n",
      "\n",
      "Actual genre:  Thriller \n",
      "\n",
      "-------------------------------\n",
      "\n",
      "Book:  Ring\n",
      "\n",
      "Predicted genre:  Horror\n",
      "\n",
      "Actual genre:  Horror \n",
      "\n",
      "-------------------------------\n",
      "\n",
      "Book:  Falling Angel\n",
      "\n",
      "Predicted genre:  Horror\n",
      "\n",
      "Actual genre:  Thriller \n",
      "\n",
      "-------------------------------\n",
      "\n",
      "Book:  Bones of the Hills\n",
      "\n",
      "Predicted genre:  Historical novel\n",
      "\n",
      "Actual genre:  Historical novel \n",
      "\n",
      "-------------------------------\n",
      "\n",
      "Book:  High Citadel\n",
      "\n",
      "Predicted genre:  Thriller\n",
      "\n",
      "Actual genre:  Thriller \n",
      "\n",
      "-------------------------------\n",
      "\n",
      "Book:  Sun Horse, Moon Horse\n",
      "\n",
      "Predicted genre:  Historical novel\n",
      "\n",
      "Actual genre:  Historical novel \n",
      "\n",
      "-------------------------------\n",
      "\n",
      "Book:  The Lost Hero\n",
      "\n",
      "Predicted genre:  Fantasy\n",
      "\n",
      "Actual genre:  Fantasy \n",
      "\n",
      "-------------------------------\n",
      "\n",
      "Book:  The Indigo King\n",
      "\n",
      "Predicted genre:  Fantasy\n",
      "\n",
      "Actual genre:  Fantasy \n",
      "\n",
      "-------------------------------\n",
      "\n",
      "Book:  From Doon With Death\n",
      "\n",
      "Predicted genre:  Crime Fiction\n",
      "\n",
      "Actual genre:  Crime Fiction \n",
      "\n",
      "-------------------------------\n",
      "\n",
      "Book:  The Six Sacred Stones\n",
      "\n",
      "Predicted genre:  Thriller\n",
      "\n",
      "Actual genre:  Thriller \n",
      "\n",
      "-------------------------------\n",
      "\n",
      "Book:  The Line of Beauty\n",
      "\n",
      "Predicted genre:  Historical novel\n",
      "\n",
      "Actual genre:  Historical novel \n",
      "\n",
      "-------------------------------\n",
      "\n",
      "Book:  Revelation\n",
      "\n",
      "Predicted genre:  Thriller\n",
      "\n",
      "Actual genre:  Crime Fiction \n",
      "\n",
      "-------------------------------\n",
      "\n",
      "Book:  Stranger to the Sun\n",
      "\n",
      "Predicted genre:  Horror\n",
      "\n",
      "Actual genre:  Horror \n",
      "\n",
      "-------------------------------\n",
      "\n",
      "Book:  Killshot\n",
      "\n",
      "Predicted genre:  Thriller\n",
      "\n",
      "Actual genre:  Thriller \n",
      "\n",
      "-------------------------------\n",
      "\n",
      "Book:  Hot Springs\n",
      "\n",
      "Predicted genre:  Thriller\n",
      "\n",
      "Actual genre:  Thriller \n",
      "\n",
      "-------------------------------\n",
      "\n",
      "Book:  Blind Lake\n",
      "\n",
      "Predicted genre:  Science Fiction\n",
      "\n",
      "Actual genre:  Science Fiction \n",
      "\n",
      "-------------------------------\n",
      "\n",
      "Book:  Earth Made of Glass\n",
      "\n",
      "Predicted genre:  Science Fiction\n",
      "\n",
      "Actual genre:  Science Fiction \n",
      "\n",
      "-------------------------------\n",
      "\n",
      "Book:  The Face on the Cutting-Room Floor\n",
      "\n",
      "Predicted genre:  Crime Fiction\n",
      "\n",
      "Actual genre:  Crime Fiction \n",
      "\n",
      "-------------------------------\n",
      "\n",
      "Book:  Radio Free Albemuth\n",
      "\n",
      "Predicted genre:  Thriller\n",
      "\n",
      "Actual genre:  Science Fiction \n",
      "\n",
      "-------------------------------\n",
      "\n",
      "Book:  The Teeth of the Tiger\n",
      "\n",
      "Predicted genre:  Thriller\n",
      "\n",
      "Actual genre:  Thriller \n",
      "\n",
      "-------------------------------\n",
      "\n",
      "Book:  The Spoilers\n",
      "\n",
      "Predicted genre:  Thriller\n",
      "\n",
      "Actual genre:  Thriller \n",
      "\n",
      "-------------------------------\n"
     ]
    }
   ],
   "source": [
    "def process(q):\n",
    "    q = clean(q)\n",
    "    q = removestopwords(q)\n",
    "    q = lematizing(q)\n",
    "    q = stemming(q)\n",
    "    q_vec = tfidf_vectorizer.transform([q])\n",
    "    q_pred = model.predict(q_vec)\n",
    "    return le.inverse_transform(q_pred)[0]\n",
    "\n",
    "for i in range(50):\n",
    "  k = xtest.sample(1).index[0]\n",
    "  \n",
    "  print(\"\\nBook: \", books['book_name'][k] )\n",
    "  print(\"\\nPredicted genre: \", process(xtest[k]))\n",
    "  print(\"\\nActual genre: \",books['genre'][k], \"\\n\")\n",
    "  print(\"-------------------------------\")\n",
    "    "
   ]
  },
  {
   "cell_type": "code",
   "execution_count": null,
   "id": "bdcd25dc",
   "metadata": {},
   "outputs": [],
   "source": []
  }
 ],
 "metadata": {
  "kernelspec": {
   "display_name": "Python 3 (ipykernel)",
   "language": "python",
   "name": "python3"
  },
  "language_info": {
   "codemirror_mode": {
    "name": "ipython",
    "version": 3
   },
   "file_extension": ".py",
   "mimetype": "text/x-python",
   "name": "python",
   "nbconvert_exporter": "python",
   "pygments_lexer": "ipython3",
   "version": "3.10.7"
  }
 },
 "nbformat": 4,
 "nbformat_minor": 5
}
